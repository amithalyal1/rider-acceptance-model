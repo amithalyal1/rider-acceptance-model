{
 "cells": [
  {
   "cell_type": "code",
   "execution_count": 1,
   "id": "0866cf5b",
   "metadata": {},
   "outputs": [],
   "source": [
    "import pandas as od\n",
    "import numpy as np\n",
    "import matplotlib as plt\n",
    "import math\n",
    "import os"
   ]
  },
  {
   "cell_type": "code",
   "execution_count": 2,
   "id": "11d09e6b",
   "metadata": {},
   "outputs": [
    {
     "data": {
      "text/plain": [
       "'/mnt/c/Users/72670/OneDrive - Bain/Desktop/goto_off/amit_goto_attempt/rider_acceptance_project/notebooks'"
      ]
     },
     "execution_count": 2,
     "metadata": {},
     "output_type": "execute_result"
    }
   ],
   "source": [
    "os.getcwd()"
   ]
  },
  {
   "cell_type": "code",
   "execution_count": 3,
   "id": "3aca87d5",
   "metadata": {},
   "outputs": [
    {
     "name": "stdout",
     "output_type": "stream",
     "text": [
      "/mnt/c/Users/72670/OneDrive - Bain/Desktop/goto_off/amit_goto_attempt/rider_acceptance_project\n"
     ]
    }
   ],
   "source": [
    "cd .."
   ]
  },
  {
   "cell_type": "code",
   "execution_count": 4,
   "id": "688048ec",
   "metadata": {},
   "outputs": [],
   "source": [
    "from src.utils.store import AssignmentStore"
   ]
  },
  {
   "cell_type": "code",
   "execution_count": null,
   "id": "56f39ff1",
   "metadata": {},
   "outputs": [],
   "source": [
    "store = AssignmentStore()\n",
    "participant_df = store.get_raw(\"participant_log.csv\")\n",
    "booking_df = store"
   ]
  },
  {
   "cell_type": "code",
   "execution_count": null,
   "id": "a42b366f",
   "metadata": {},
   "outputs": [],
   "source": []
  }
 ],
 "metadata": {
  "kernelspec": {
   "display_name": "rider_acceptance_env",
   "language": "python",
   "name": "python3"
  },
  "language_info": {
   "codemirror_mode": {
    "name": "ipython",
    "version": 3
   },
   "file_extension": ".py",
   "mimetype": "text/x-python",
   "name": "python",
   "nbconvert_exporter": "python",
   "pygments_lexer": "ipython3",
   "version": "3.11.13"
  }
 },
 "nbformat": 4,
 "nbformat_minor": 5
}
